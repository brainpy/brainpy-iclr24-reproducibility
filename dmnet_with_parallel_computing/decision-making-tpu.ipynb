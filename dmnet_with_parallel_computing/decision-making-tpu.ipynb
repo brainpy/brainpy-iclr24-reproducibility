{
 "metadata": {
  "kernelspec": {
   "language": "python",
   "display_name": "Python 3",
   "name": "python3"
  },
  "language_info": {
   "name": "python",
   "version": "3.10.13",
   "mimetype": "text/x-python",
   "codemirror_mode": {
    "name": "ipython",
    "version": 3
   },
   "pygments_lexer": "ipython3",
   "nbconvert_exporter": "python",
   "file_extension": ".py"
  },
  "kaggle": {
   "accelerator": "tpu1vmV38",
   "dataSources": [],
   "isInternetEnabled": true,
   "language": "python",
   "sourceType": "notebook",
   "isGpuEnabled": false
  }
 },
 "nbformat_minor": 4,
 "nbformat": 4,
 "cells": [
  {
   "cell_type": "code",
   "source": [
    "!pip install jax[tpu] -f https://storage.googleapis.com/jax-releases/libtpu_releases.html --upgrade"
   ],
   "metadata": {
    "execution": {
     "iopub.status.busy": "2023-11-21T11:56:58.722320Z",
     "iopub.execute_input": "2023-11-21T11:56:58.722676Z",
     "iopub.status.idle": "2023-11-21T11:57:22.004232Z",
     "shell.execute_reply.started": "2023-11-21T11:56:58.722647Z",
     "shell.execute_reply": "2023-11-21T11:57:22.003156Z"
    },
    "trusted": true
   },
   "execution_count": 1,
   "outputs": [
    {
     "name": "stdout",
     "text": "Looking in links: https://storage.googleapis.com/jax-releases/libtpu_releases.html\nRequirement already satisfied: jax[tpu] in /usr/local/lib/python3.10/site-packages (0.4.17)\nCollecting jax[tpu]\n  Downloading jax-0.4.20-py3-none-any.whl (1.7 MB)\n\u001B[2K     \u001B[90m━━━━━━━━━━━━━━━━━━━━━━━━━━━━━━━━━━━━━━━━\u001B[0m \u001B[32m1.7/1.7 MB\u001B[0m \u001B[31m7.9 MB/s\u001B[0m eta \u001B[36m0:00:00\u001B[0ma \u001B[36m0:00:01\u001B[0m\n\u001B[?25hRequirement already satisfied: ml-dtypes>=0.2.0 in /usr/local/lib/python3.10/site-packages (from jax[tpu]) (0.2.0)\nRequirement already satisfied: scipy>=1.9 in /usr/local/lib/python3.10/site-packages (from jax[tpu]) (1.11.3)\nRequirement already satisfied: numpy>=1.22 in /usr/local/lib/python3.10/site-packages (from jax[tpu]) (1.26.1)\nRequirement already satisfied: opt-einsum in /usr/local/lib/python3.10/site-packages (from jax[tpu]) (3.3.0)\nCollecting libtpu-nightly==0.1.dev20231102\n  Downloading https://storage.googleapis.com/cloud-tpu-tpuvm-artifacts/wheels/libtpu-nightly/libtpu_nightly-0.1.dev20231102-py3-none-any.whl (122.6 MB)\n\u001B[2K     \u001B[90m━━━━━━━━━━━━━━━━━━━━━━━━━━━━━━━━━━━━━━━\u001B[0m \u001B[32m122.6/122.6 MB\u001B[0m \u001B[31m7.1 MB/s\u001B[0m eta \u001B[36m0:00:00\u001B[0m00:01\u001B[0m00:01\u001B[0m\n\u001B[?25hRequirement already satisfied: requests in /usr/local/lib/python3.10/site-packages (from jax[tpu]) (2.31.0)\nCollecting jaxlib==0.4.20\n  Downloading jaxlib-0.4.20-cp310-cp310-manylinux2014_x86_64.whl (85.8 MB)\n\u001B[2K     \u001B[90m━━━━━━━━━━━━━━━━━━━━━━━━━━━━━━━━━━━━━━━━\u001B[0m \u001B[32m85.8/85.8 MB\u001B[0m \u001B[31m3.4 MB/s\u001B[0m eta \u001B[36m0:00:00\u001B[0m:00:01\u001B[0m00:01\u001B[0m\n\u001B[?25hRequirement already satisfied: idna<4,>=2.5 in /usr/local/lib/python3.10/site-packages (from requests->jax[tpu]) (3.4)\nRequirement already satisfied: urllib3<3,>=1.21.1 in /usr/local/lib/python3.10/site-packages (from requests->jax[tpu]) (2.0.7)\nRequirement already satisfied: charset-normalizer<4,>=2 in /usr/local/lib/python3.10/site-packages (from requests->jax[tpu]) (3.3.2)\nRequirement already satisfied: certifi>=2017.4.17 in /usr/local/lib/python3.10/site-packages (from requests->jax[tpu]) (2023.7.22)\nInstalling collected packages: libtpu-nightly, jaxlib, jax\n  Attempting uninstall: libtpu-nightly\n    Found existing installation: libtpu-nightly 0.1.dev20231003\n    Uninstalling libtpu-nightly-0.1.dev20231003:\n      Successfully uninstalled libtpu-nightly-0.1.dev20231003\n  Attempting uninstall: jaxlib\n    Found existing installation: jaxlib 0.4.17\n    Uninstalling jaxlib-0.4.17:\n      Successfully uninstalled jaxlib-0.4.17\n  Attempting uninstall: jax\n    Found existing installation: jax 0.4.17\n    Uninstalling jax-0.4.17:\n      Successfully uninstalled jax-0.4.17\nSuccessfully installed jax-0.4.20 jaxlib-0.4.20 libtpu-nightly-0.1.dev20231102\n\u001B[33mWARNING: Running pip as the 'root' user can result in broken permissions and conflicting behaviour with the system package manager. It is recommended to use a virtual environment instead: https://pip.pypa.io/warnings/venv\u001B[0m\u001B[33m\n\u001B[0m\n\u001B[1m[\u001B[0m\u001B[34;49mnotice\u001B[0m\u001B[1;39;49m]\u001B[0m\u001B[39;49m A new release of pip is available: \u001B[0m\u001B[31;49m23.0.1\u001B[0m\u001B[39;49m -> \u001B[0m\u001B[32;49m23.3.1\u001B[0m\n\u001B[1m[\u001B[0m\u001B[34;49mnotice\u001B[0m\u001B[1;39;49m]\u001B[0m\u001B[39;49m To update, run: \u001B[0m\u001B[32;49mpip install --upgrade pip\u001B[0m\n",
     "output_type": "stream"
    }
   ]
  },
  {
   "cell_type": "code",
   "source": [
    "import jax\n",
    "print(jax.__version__)\n",
    "print(jax.devices())"
   ],
   "metadata": {
    "execution": {
     "iopub.status.busy": "2023-11-21T11:57:22.005876Z",
     "iopub.execute_input": "2023-11-21T11:57:22.006286Z",
     "iopub.status.idle": "2023-11-21T11:57:29.462345Z",
     "shell.execute_reply.started": "2023-11-21T11:57:22.006253Z",
     "shell.execute_reply": "2023-11-21T11:57:29.461265Z"
    },
    "trusted": true
   },
   "execution_count": 2,
   "outputs": [
    {
     "name": "stdout",
     "text": "0.4.20\n[TpuDevice(id=0, process_index=0, coords=(0,0,0), core_on_chip=0), TpuDevice(id=1, process_index=0, coords=(0,0,0), core_on_chip=1), TpuDevice(id=2, process_index=0, coords=(1,0,0), core_on_chip=0), TpuDevice(id=3, process_index=0, coords=(1,0,0), core_on_chip=1), TpuDevice(id=4, process_index=0, coords=(0,1,0), core_on_chip=0), TpuDevice(id=5, process_index=0, coords=(0,1,0), core_on_chip=1), TpuDevice(id=6, process_index=0, coords=(1,1,0), core_on_chip=0), TpuDevice(id=7, process_index=0, coords=(1,1,0), core_on_chip=1)]\n",
     "output_type": "stream"
    }
   ]
  },
  {
   "cell_type": "code",
   "source": [
    "!pip install brainpy"
   ],
   "metadata": {
    "execution": {
     "iopub.status.busy": "2023-11-21T11:57:29.463960Z",
     "iopub.execute_input": "2023-11-21T11:57:29.464350Z",
     "iopub.status.idle": "2023-11-21T11:57:33.797004Z",
     "shell.execute_reply.started": "2023-11-21T11:57:29.464319Z",
     "shell.execute_reply": "2023-11-21T11:57:33.795828Z"
    },
    "trusted": true
   },
   "execution_count": 3,
   "outputs": [
    {
     "name": "stdout",
     "text": "Collecting brainpy\n  Downloading brainpy-2.4.6-py3-none-any.whl (678 kB)\n\u001B[2K     \u001B[90m━━━━━━━━━━━━━━━━━━━━━━━━━━━━━━━━━━━━━━━\u001B[0m \u001B[32m678.5/678.5 kB\u001B[0m \u001B[31m9.4 MB/s\u001B[0m eta \u001B[36m0:00:00\u001B[0m00:01\u001B[0m00:01\u001B[0m\n\u001B[?25hRequirement already satisfied: numpy>=1.15 in /usr/local/lib/python3.10/site-packages (from brainpy) (1.26.1)\nRequirement already satisfied: jax in /usr/local/lib/python3.10/site-packages (from brainpy) (0.4.20)\nRequirement already satisfied: tqdm in /usr/local/lib/python3.10/site-packages (from brainpy) (4.66.1)\nRequirement already satisfied: numba in /usr/local/lib/python3.10/site-packages (from brainpy) (0.58.1)\nRequirement already satisfied: msgpack in /usr/local/lib/python3.10/site-packages (from brainpy) (1.0.7)\nRequirement already satisfied: opt-einsum in /usr/local/lib/python3.10/site-packages (from jax->brainpy) (3.3.0)\nRequirement already satisfied: ml-dtypes>=0.2.0 in /usr/local/lib/python3.10/site-packages (from jax->brainpy) (0.2.0)\nRequirement already satisfied: scipy>=1.9 in /usr/local/lib/python3.10/site-packages (from jax->brainpy) (1.11.3)\nRequirement already satisfied: llvmlite<0.42,>=0.41.0dev0 in /usr/local/lib/python3.10/site-packages (from numba->brainpy) (0.41.1)\nInstalling collected packages: brainpy\nSuccessfully installed brainpy-2.4.6\n\u001B[33mWARNING: Running pip as the 'root' user can result in broken permissions and conflicting behaviour with the system package manager. It is recommended to use a virtual environment instead: https://pip.pypa.io/warnings/venv\u001B[0m\u001B[33m\n\u001B[0m\n\u001B[1m[\u001B[0m\u001B[34;49mnotice\u001B[0m\u001B[1;39;49m]\u001B[0m\u001B[39;49m A new release of pip is available: \u001B[0m\u001B[31;49m23.0.1\u001B[0m\u001B[39;49m -> \u001B[0m\u001B[32;49m23.3.1\u001B[0m\n\u001B[1m[\u001B[0m\u001B[34;49mnotice\u001B[0m\u001B[1;39;49m]\u001B[0m\u001B[39;49m To update, run: \u001B[0m\u001B[32;49mpip install --upgrade pip\u001B[0m\n",
     "output_type": "stream"
    }
   ]
  },
  {
   "cell_type": "code",
   "source": [
    "import time\n",
    "from pprint import pprint  \n",
    "import numpy as np\n",
    "import brainpy as bp\n",
    "import brainpy.math as bm\n",
    "import matplotlib.pyplot as plt"
   ],
   "metadata": {
    "_uuid": "8f2839f25d086af736a60e9eeb907d3b93b6e0e5",
    "_cell_guid": "b1076dfc-b9ad-4769-8c92-a6c4dae69d19",
    "execution": {
     "iopub.status.busy": "2023-11-21T11:57:37.872114Z",
     "iopub.execute_input": "2023-11-21T11:57:37.872565Z",
     "iopub.status.idle": "2023-11-21T11:57:41.152519Z",
     "shell.execute_reply.started": "2023-11-21T11:57:37.872522Z",
     "shell.execute_reply": "2023-11-21T11:57:41.151472Z"
    },
    "trusted": true
   },
   "execution_count": 4,
   "outputs": [
    {
     "name": "stderr",
     "text": "/usr/local/lib/python3.10/site-packages/tqdm/auto.py:21: TqdmWarning: IProgress not found. Please update jupyter and ipywidgets. See https://ipywidgets.readthedocs.io/en/stable/user_install.html\n  from .autonotebook import tqdm as notebook_tqdm\n",
     "output_type": "stream"
    }
   ]
  },
  {
   "cell_type": "code",
   "source": [
    "bp.check.turn_off()"
   ],
   "metadata": {
    "execution": {
     "iopub.status.busy": "2023-11-21T11:57:41.154230Z",
     "iopub.execute_input": "2023-11-21T11:57:41.154629Z",
     "iopub.status.idle": "2023-11-21T11:57:41.158194Z",
     "shell.execute_reply.started": "2023-11-21T11:57:41.154600Z",
     "shell.execute_reply": "2023-11-21T11:57:41.157495Z"
    },
    "trusted": true
   },
   "execution_count": 5,
   "outputs": []
  },
  {
   "cell_type": "code",
   "source": [
    "class Tool:\n",
    "  def __init__(self, pre_stimulus_period=100., stimulus_period=1000., delay_period=500.):\n",
    "    self.pre_stimulus_period = pre_stimulus_period\n",
    "    self.stimulus_period = stimulus_period\n",
    "    self.delay_period = delay_period\n",
    "    self.freq_variance = 10.\n",
    "    self.freq_interval = 50.\n",
    "    self.total_period = pre_stimulus_period + stimulus_period + delay_period\n",
    "\n",
    "  def generate_freqs(self, mean, num=1):\n",
    "    # stimulus period\n",
    "    n_stim = int(self.stimulus_period / self.freq_interval)\n",
    "    n_interval = int(self.freq_interval / bm.get_dt())\n",
    "    freqs_stim = np.random.normal(mean, self.freq_variance, (n_stim, 1, num))\n",
    "    freqs_stim = np.tile(freqs_stim, (1, n_interval, 1)).reshape(n_stim * n_interval, num)\n",
    "    # pre stimulus period\n",
    "    freqs_pre = np.zeros([int(self.pre_stimulus_period / bm.get_dt()), num])\n",
    "    # post stimulus period\n",
    "    freqs_delay = np.zeros([int(self.delay_period / bm.get_dt()), num])\n",
    "    all_freqs = np.concatenate([freqs_pre, freqs_stim, freqs_delay], axis=0)\n",
    "    return bm.asarray(all_freqs)\n",
    "\n",
    "  def visualize_results(self, mon, IA_freqs, IB_freqs, t_start=0., title=None):\n",
    "    fig, gs = bp.visualize.get_figure(4, 1, 3, 10)\n",
    "    axes = [fig.add_subplot(gs[i, 0]) for i in range(4)]\n",
    "\n",
    "    ax = axes[0]\n",
    "    bp.visualize.raster_plot(mon['ts'], mon['A.spike'], markersize=1, ax=ax)\n",
    "    if title: ax.set_title(title)\n",
    "    ax.set_ylabel(\"Group A\")\n",
    "    ax.set_xlim(t_start, self.total_period + 1)\n",
    "    ax.axvline(self.pre_stimulus_period, linestyle='dashed')\n",
    "    ax.axvline(self.pre_stimulus_period + self.stimulus_period, linestyle='dashed')\n",
    "    ax.axvline(self.pre_stimulus_period + self.stimulus_period + self.delay_period, linestyle='dashed')\n",
    "\n",
    "    ax = axes[1]\n",
    "    bp.visualize.raster_plot(mon['ts'], mon['B.spike'], markersize=1, ax=ax)\n",
    "    ax.set_ylabel(\"Group B\")\n",
    "    ax.set_xlim(t_start, self.total_period + 1)\n",
    "    ax.axvline(self.pre_stimulus_period, linestyle='dashed')\n",
    "    ax.axvline(self.pre_stimulus_period + self.stimulus_period, linestyle='dashed')\n",
    "    ax.axvline(self.pre_stimulus_period + self.stimulus_period + self.delay_period, linestyle='dashed')\n",
    "\n",
    "    ax = axes[2]\n",
    "    rateA = bp.measure.firing_rate(mon['A.spike'], width=10.)\n",
    "    rateB = bp.measure.firing_rate(mon['B.spike'], width=10.)\n",
    "    ax.plot(mon['ts'], rateA, label=\"Group A\")\n",
    "    ax.plot(mon['ts'], rateB, label=\"Group B\")\n",
    "    ax.set_ylabel('Population activity [Hz]')\n",
    "    ax.set_xlim(t_start, self.total_period + 1)\n",
    "    ax.axvline(self.pre_stimulus_period, linestyle='dashed')\n",
    "    ax.axvline(self.pre_stimulus_period + self.stimulus_period, linestyle='dashed')\n",
    "    ax.axvline(self.pre_stimulus_period + self.stimulus_period + self.delay_period, linestyle='dashed')\n",
    "    ax.legend()\n",
    "\n",
    "    ax = axes[3]\n",
    "    ax.plot(mon['ts'], IA_freqs, label=\"group A\")\n",
    "    ax.plot(mon['ts'], IB_freqs, label=\"group B\")\n",
    "    ax.set_ylabel(\"Input activity [Hz]\")\n",
    "    ax.set_xlim(t_start, self.total_period + 1)\n",
    "    ax.axvline(self.pre_stimulus_period, linestyle='dashed')\n",
    "    ax.axvline(self.pre_stimulus_period + self.stimulus_period, linestyle='dashed')\n",
    "    ax.axvline(self.pre_stimulus_period + self.stimulus_period + self.delay_period, linestyle='dashed')\n",
    "    ax.legend()\n",
    "    ax.set_xlabel(\"Time [ms]\")\n",
    "\n",
    "    plt.show()"
   ],
   "metadata": {
    "execution": {
     "iopub.status.busy": "2023-11-21T11:57:43.252754Z",
     "iopub.execute_input": "2023-11-21T11:57:43.253724Z",
     "iopub.status.idle": "2023-11-21T11:57:43.269267Z",
     "shell.execute_reply.started": "2023-11-21T11:57:43.253680Z",
     "shell.execute_reply": "2023-11-21T11:57:43.268458Z"
    },
    "trusted": true
   },
   "execution_count": 6,
   "outputs": []
  },
  {
   "cell_type": "code",
   "source": [
    "class ExpSyn(bp.Projection):\n",
    "  def __init__(self, pre, post, conn, delay, g_max, tau, E):\n",
    "    super().__init__()\n",
    "    if conn == 'all2all':\n",
    "      comm = bp.dnn.AllToAll(pre.num, post.num, g_max)\n",
    "    elif conn == 'one2one':\n",
    "      comm = bp.dnn.OneToOne(pre.num, g_max)\n",
    "    else:\n",
    "      raise ValueError\n",
    "    syn = bp.dyn.Expon.desc(post.num, tau=tau, sharding=[bm.sharding.NEU_AXIS])\n",
    "    out = bp.dyn.COBA.desc(E=E)\n",
    "    self.proj = bp.dyn.ProjAlignPostMg2(\n",
    "      pre=pre, delay=delay, comm=comm,\n",
    "      syn=syn, out=out, post=post\n",
    "    )"
   ],
   "metadata": {
    "execution": {
     "iopub.status.busy": "2023-11-21T11:57:46.444436Z",
     "iopub.execute_input": "2023-11-21T11:57:46.444841Z",
     "iopub.status.idle": "2023-11-21T11:57:46.450986Z",
     "shell.execute_reply.started": "2023-11-21T11:57:46.444807Z",
     "shell.execute_reply": "2023-11-21T11:57:46.450240Z"
    },
    "trusted": true
   },
   "execution_count": 7,
   "outputs": []
  },
  {
   "cell_type": "code",
   "source": [
    "class NMDA(bp.Projection):\n",
    "  def __init__(self, pre, post, conn, delay, g_max):\n",
    "    super().__init__()\n",
    "    if conn == 'all2all':\n",
    "      comm = bp.dnn.AllToAll(pre.num, post.num, g_max)\n",
    "    elif conn == 'one2one':\n",
    "      comm = bp.dnn.OneToOne(pre.num, g_max)\n",
    "    else:\n",
    "      raise ValueError\n",
    "    syn = bp.dyn.NMDA.desc(pre.num, a=0.5, tau_decay=100., tau_rise=2., sharding=[bm.sharding.NEU_AXIS])\n",
    "    out = bp.dyn.MgBlock(E=0., cc_Mg=1.0)\n",
    "    self.proj = bp.dyn.ProjAlignPreMg2(\n",
    "      pre=pre, delay=delay, syn=syn,\n",
    "      comm=comm, out=out, post=post\n",
    "    )"
   ],
   "metadata": {
    "execution": {
     "iopub.status.busy": "2023-11-21T11:57:48.213743Z",
     "iopub.execute_input": "2023-11-21T11:57:48.214164Z",
     "iopub.status.idle": "2023-11-21T11:57:48.220154Z",
     "shell.execute_reply.started": "2023-11-21T11:57:48.214130Z",
     "shell.execute_reply": "2023-11-21T11:57:48.219415Z"
    },
    "trusted": true
   },
   "execution_count": 8,
   "outputs": []
  },
  {
   "cell_type": "code",
   "source": [
    "class DecisionMakingNet(bp.DynSysGroup):\n",
    "  def __init__(self, scale=1., f=0.15):\n",
    "    super().__init__()\n",
    "    # 网络中各组神经元的数目\n",
    "    num_exc = int(1600 * scale)\n",
    "    num_I, num_A, num_B = int(400 * scale), int(f * num_exc), int(f * num_exc)\n",
    "    num_N = num_exc - num_A - num_B\n",
    "    self.num_A, self.num_B, self.num_N, self.num_I = num_A, num_B, num_N, num_I\n",
    "    self.num = num_A + num_B + num_N + num_I\n",
    "\n",
    "    poisson_freq = 2400.  # Hz\n",
    "    w_pos = 1.7\n",
    "    w_neg = 1. - f * (w_pos - 1.) / (1. - f)\n",
    "    g_ext2E_AMPA = 2.1  # nS\n",
    "    g_ext2I_AMPA = 1.62  # nS\n",
    "    g_E2E_AMPA = 0.05 / scale  # nS\n",
    "    g_E2I_AMPA = 0.04 / scale  # nS\n",
    "    g_E2E_NMDA = 0.165 / scale  # nS\n",
    "    g_E2I_NMDA = 0.13 / scale  # nS\n",
    "    g_I2E_GABAa = 1.3 / scale  # nS\n",
    "    g_I2I_GABAa = 1.0 / scale  # nS\n",
    "\n",
    "    neu_par = dict(V_rest=-70., V_reset=-55., V_th=-50., V_initializer=bp.init.OneInit(-70.),\n",
    "                   sharding=[bm.sharding.NEU_AXIS])\n",
    "\n",
    "    # E neurons/pyramid neurons\n",
    "    self.A = bp.dyn.LifRef(num_A, tau=20., R=0.04, tau_ref=2., **neu_par)\n",
    "    self.B = bp.dyn.LifRef(num_B, tau=20., R=0.04, tau_ref=2., **neu_par)\n",
    "    self.N = bp.dyn.LifRef(num_N, tau=20., R=0.04, tau_ref=2., **neu_par)\n",
    "\n",
    "    # I neurons/interneurons\n",
    "    self.I = bp.dyn.LifRef(num_I, tau=10., R=0.05, tau_ref=1., **neu_par)\n",
    "\n",
    "    # poisson stimulus  # 'freqs' as bm.Variable\n",
    "    self.IA = bp.dyn.PoissonGroup(num_A, freqs=bm.Variable(bm.zeros(1)), sharding=[bm.sharding.NEU_AXIS])\n",
    "    self.IB = bp.dyn.PoissonGroup(num_B, freqs=bm.Variable(bm.zeros(1)), sharding=[bm.sharding.NEU_AXIS])\n",
    "\n",
    "    # noise neurons\n",
    "    self.noise_B = bp.dyn.PoissonGroup(num_B, freqs=poisson_freq, sharding=[bm.sharding.NEU_AXIS])\n",
    "    self.noise_A = bp.dyn.PoissonGroup(num_A, freqs=poisson_freq, sharding=[bm.sharding.NEU_AXIS])\n",
    "    self.noise_N = bp.dyn.PoissonGroup(num_N, freqs=poisson_freq, sharding=[bm.sharding.NEU_AXIS])\n",
    "    self.noise_I = bp.dyn.PoissonGroup(num_I, freqs=poisson_freq, sharding=[bm.sharding.NEU_AXIS])\n",
    "\n",
    "    # define external inputs\n",
    "    self.IA2A = ExpSyn(self.IA, self.A, 'one2one', None, g_ext2E_AMPA, tau=2., E=0.)\n",
    "    self.IB2B = ExpSyn(self.IB, self.B, 'one2one', None, g_ext2E_AMPA, tau=2., E=0.)\n",
    "\n",
    "    # define AMPA projections from N\n",
    "    self.N2B_AMPA = ExpSyn(self.N, self.B, 'all2all', 0.5, g_E2E_AMPA * w_neg, tau=2., E=0.)\n",
    "    self.N2A_AMPA = ExpSyn(self.N, self.A, 'all2all', 0.5, g_E2E_AMPA * w_neg, tau=2., E=0.)\n",
    "    self.N2N_AMPA = ExpSyn(self.N, self.N, 'all2all', 0.5, g_E2E_AMPA, tau=2., E=0.)\n",
    "    self.N2I_AMPA = ExpSyn(self.N, self.I, 'all2all', 0.5, g_E2I_AMPA, tau=2., E=0.)\n",
    "\n",
    "    # define NMDA projections from N\n",
    "    self.N2B_NMDA = NMDA(self.N, self.B, 'all2all', 0.5, g_E2E_NMDA * w_neg)\n",
    "    self.N2A_NMDA = NMDA(self.N, self.A, 'all2all', 0.5, g_E2E_NMDA * w_neg)\n",
    "    self.N2N_NMDA = NMDA(self.N, self.N, 'all2all', 0.5, g_E2E_NMDA)\n",
    "    self.N2I_NMDA = NMDA(self.N, self.I, 'all2all', 0.5, g_E2I_NMDA)\n",
    "\n",
    "    # define AMPA projections from B\n",
    "    self.B2B_AMPA = ExpSyn(self.B, self.B, 'all2all', 0.5, g_E2E_AMPA * w_pos, tau=2., E=0.)\n",
    "    self.B2A_AMPA = ExpSyn(self.B, self.A, 'all2all', 0.5, g_E2E_AMPA * w_neg, tau=2., E=0.)\n",
    "    self.B2N_AMPA = ExpSyn(self.B, self.N, 'all2all', 0.5, g_E2E_AMPA, tau=2., E=0.)\n",
    "    self.B2I_AMPA = ExpSyn(self.B, self.I, 'all2all', 0.5, g_E2I_AMPA, tau=2., E=0.)\n",
    "\n",
    "    # define NMDA projections from B\n",
    "    self.B2B_NMDA = NMDA(self.B, self.B, 'all2all', 0.5, g_E2E_NMDA * w_pos)\n",
    "    self.B2A_NMDA = NMDA(self.B, self.A, 'all2all', 0.5, g_E2E_NMDA * w_neg)\n",
    "    self.B2N_NMDA = NMDA(self.B, self.N, 'all2all', 0.5, g_E2E_NMDA)\n",
    "    self.B2I_NMDA = NMDA(self.B, self.I, 'all2all', 0.5, g_E2I_NMDA)\n",
    "\n",
    "    # define AMPA projections from A\n",
    "    self.A2B_AMPA = ExpSyn(self.A, self.B, 'all2all', 0.5, g_E2E_AMPA * w_neg, tau=2., E=0.)\n",
    "    self.A2A_AMPA = ExpSyn(self.A, self.A, 'all2all', 0.5, g_E2E_AMPA * w_pos, tau=2., E=0.)\n",
    "    self.A2N_AMPA = ExpSyn(self.A, self.N, 'all2all', 0.5, g_E2E_AMPA, tau=2., E=0.)\n",
    "    self.A2I_AMPA = ExpSyn(self.A, self.I, 'all2all', 0.5, g_E2I_AMPA, tau=2., E=0.)\n",
    "\n",
    "    # define NMDA projections from A\n",
    "    self.A2B_NMDA = NMDA(self.A, self.B, 'all2all', 0.5, g_E2E_NMDA * w_neg)\n",
    "    self.A2A_NMDA = NMDA(self.A, self.A, 'all2all', 0.5, g_E2E_NMDA * w_pos)\n",
    "    self.A2N_NMDA = NMDA(self.A, self.N, 'all2all', 0.5, g_E2E_NMDA)\n",
    "    self.A2I_NMDA = NMDA(self.A, self.I, 'all2all', 0.5, g_E2I_NMDA)\n",
    "\n",
    "    # define I->E/I conn\n",
    "    self.I2B = ExpSyn(self.I, self.B, 'all2all', 0.5, g_I2E_GABAa, tau=5., E=-70.)\n",
    "    self.I2A = ExpSyn(self.I, self.A, 'all2all', 0.5, g_I2E_GABAa, tau=5., E=-70.)\n",
    "    self.I2N = ExpSyn(self.I, self.N, 'all2all', 0.5, g_I2E_GABAa, tau=5., E=-70.)\n",
    "    self.I2I = ExpSyn(self.I, self.I, 'all2all', 0.5, g_I2I_GABAa, tau=5., E=-70.)\n",
    "\n",
    "    # define external projections\n",
    "    self.noise2B = ExpSyn(self.noise_B, self.B, 'one2one', None, g_ext2E_AMPA, tau=2., E=0.)\n",
    "    self.noise2A = ExpSyn(self.noise_A, self.A, 'one2one', None, g_ext2E_AMPA, tau=2., E=0.)\n",
    "    self.noise2N = ExpSyn(self.noise_N, self.N, 'one2one', None, g_ext2E_AMPA, tau=2., E=0.)\n",
    "    self.noise2I = ExpSyn(self.noise_I, self.I, 'one2one', None, g_ext2I_AMPA, tau=2., E=0.)"
   ],
   "metadata": {
    "execution": {
     "iopub.status.busy": "2023-11-21T11:57:50.343210Z",
     "iopub.execute_input": "2023-11-21T11:57:50.343614Z",
     "iopub.status.idle": "2023-11-21T11:57:50.365195Z",
     "shell.execute_reply.started": "2023-11-21T11:57:50.343578Z",
     "shell.execute_reply": "2023-11-21T11:57:50.364339Z"
    },
    "trusted": true
   },
   "execution_count": 9,
   "outputs": []
  },
  {
   "cell_type": "code",
   "source": [
    "def run_a_simulation(scale):\n",
    "  # simulation tools\n",
    "  pre_stimulus_period = 100.  # time before the external simuli are given\n",
    "  stimulus_period = 1000.  # time within which the external simuli are given\n",
    "  delay_period = 500.  # time after the external simuli are removed\n",
    "  tool = Tool(pre_stimulus_period, stimulus_period, delay_period)\n",
    "\n",
    "  # stimulus\n",
    "  mu0 = 40.\n",
    "  coherence = 25.6\n",
    "  IA_freqs = tool.generate_freqs(mu0 + mu0 / 100. * coherence)\n",
    "  IB_freqs = tool.generate_freqs(mu0 - mu0 / 100. * coherence)\n",
    "\n",
    "  # network\n",
    "  net = DecisionMakingNet(scale)\n",
    "\n",
    "  def run(i):\n",
    "    bp.share.save(i=i, t=bm.get_dt() * i)\n",
    "    net.IA.freqs.value = IA_freqs[i]\n",
    "    net.IB.freqs.value = IB_freqs[i]\n",
    "    net.update()\n",
    "    return {'A.spike': net.A.spike.value, 'B.spike': net.B.spike.value}\n",
    "\n",
    "  # running\n",
    "  indices = np.arange(int(tool.total_period / bm.get_dt()))\n",
    "  mon = bm.for_loop(run, indices)\n",
    "  mon['ts'] = indices * bm.get_dt()\n",
    "  tool.visualize_results(mon, IA_freqs, IB_freqs)"
   ],
   "metadata": {
    "execution": {
     "iopub.status.busy": "2023-11-21T11:57:54.025204Z",
     "iopub.execute_input": "2023-11-21T11:57:54.025584Z",
     "iopub.status.idle": "2023-11-21T11:57:54.032465Z",
     "shell.execute_reply.started": "2023-11-21T11:57:54.025551Z",
     "shell.execute_reply": "2023-11-21T11:57:54.031640Z"
    },
    "trusted": true
   },
   "execution_count": 10,
   "outputs": []
  },
  {
   "cell_type": "code",
   "source": [
    "def simulate_a_trial(scale, platform='cpu', x64=False, monitor=True):\n",
    "  bm.set_platform(platform)\n",
    "  bm.random.seed()\n",
    "  if x64:\n",
    "    bm.enable_x64()\n",
    "\n",
    "  # simulation tools\n",
    "  pre_stimulus_period = 100.  # time before the external simuli are given\n",
    "  stimulus_period = 1000.  # time within which the external simuli are given\n",
    "  delay_period = 500.  # time after the external simuli are removed\n",
    "  tool = Tool(pre_stimulus_period, stimulus_period, delay_period)\n",
    "\n",
    "  # stimulus\n",
    "  mu0 = 40.\n",
    "  coherence = 25.6\n",
    "  IA_freqs = tool.generate_freqs(mu0 + mu0 / 100. * coherence)\n",
    "  IB_freqs = tool.generate_freqs(mu0 - mu0 / 100. * coherence)\n",
    "\n",
    "  # network\n",
    "  net = DecisionMakingNet(scale)\n",
    "\n",
    "  def run(i):\n",
    "    bp.share.save(i=i, t=bm.get_dt() * i)\n",
    "    net.IA.freqs.value = IA_freqs[i]\n",
    "    net.IB.freqs.value = IB_freqs[i]\n",
    "    net.update()\n",
    "    if monitor:\n",
    "      return {'A.spike': net.A.spike.value, 'B.spike': net.B.spike.value}\n",
    "\n",
    "  @bm.jit\n",
    "  def jit_run(indices):\n",
    "    return bm.for_loop(run, indices)\n",
    "\n",
    "  # first running\n",
    "  n_step = int(tool.total_period / bm.get_dt())\n",
    "  indices = np.arange(n_step)\n",
    "#   net.reset_state()\n",
    "  t0 = time.time()\n",
    "  mon = jax.block_until_ready(jit_run(indices))\n",
    "  t1 = time.time()\n",
    "\n",
    "#   # second running\n",
    "#   net.reset_state()\n",
    "#   t2 = time.time()\n",
    "#   mon = jax.block_until_ready(jit_run(indices))\n",
    "#   t3 = time.time()\n",
    "\n",
    "  # mon['ts'] = indices * bm.get_dt()\n",
    "  # tool.visualize_results(mon, IA_freqs, IB_freqs)\n",
    "\n",
    "  print(f'platform = {platform}, x64 = {x64}, scale = {scale}, '\n",
    "        f'first run = {t1 - t0} s')\n",
    "\n",
    "  # post\n",
    "  bm.disable_x64()\n",
    "  bm.clear_buffer_memory(platform)\n",
    "  return {'num': net.num,\n",
    "          'exe_time': t1 - t0,\n",
    "          'run_time': t1 - t0,\n",
    "          # 'fr': rate\n",
    "          }"
   ],
   "metadata": {
    "execution": {
     "iopub.status.busy": "2023-11-21T11:57:56.368538Z",
     "iopub.execute_input": "2023-11-21T11:57:56.369485Z",
     "iopub.status.idle": "2023-11-21T11:57:56.378521Z",
     "shell.execute_reply.started": "2023-11-21T11:57:56.369441Z",
     "shell.execute_reply": "2023-11-21T11:57:56.377648Z"
    },
    "trusted": true
   },
   "execution_count": 11,
   "outputs": []
  },
  {
   "cell_type": "code",
   "source": [
    "def benchmark(devices, platform='cpu', x64=True, scales=(1, 4, 8, 10, 20, 40, 60, 80, 100)):\n",
    "    final_results = dict()\n",
    "    for scale in scales:  # \n",
    "        res = {'exetime': [], 'runtime': []}\n",
    "        for _ in range(2):\n",
    "            with bm.sharding.device_mesh(devices, [bm.sharding.NEU_AXIS]):\n",
    "                r = simulate_a_trial(scale=scale, platform=platform, x64=x64, monitor=True)\n",
    "            res['exetime'].append(r['exe_time'])\n",
    "            res['runtime'].append(r['run_time'])\n",
    "        print(f'Scale = {scale}:')\n",
    "        pprint(res)"
   ],
   "metadata": {
    "execution": {
     "iopub.status.busy": "2023-11-21T11:57:59.467569Z",
     "iopub.execute_input": "2023-11-21T11:57:59.468446Z",
     "iopub.status.idle": "2023-11-21T11:57:59.474004Z",
     "shell.execute_reply.started": "2023-11-21T11:57:59.468405Z",
     "shell.execute_reply": "2023-11-21T11:57:59.473131Z"
    },
    "trusted": true
   },
   "execution_count": 12,
   "outputs": []
  },
  {
   "cell_type": "markdown",
   "source": [
    "# 8 devices"
   ],
   "metadata": {}
  },
  {
   "cell_type": "code",
   "source": [
    "benchmark(\n",
    "    jax.devices(), \n",
    "    platform='tpu', \n",
    "    x64=False, \n",
    "    scales=(1, 4, 8, 10, 20, 40, 60, 80, 100, 200, 400, 800, 1000, 2000, 4000, 8000, 10000), \n",
    ")"
   ],
   "metadata": {
    "execution": {
     "iopub.status.busy": "2023-11-21T11:59:09.588562Z",
     "iopub.execute_input": "2023-11-21T11:59:09.589577Z",
     "iopub.status.idle": "2023-11-21T12:06:44.255174Z",
     "shell.execute_reply.started": "2023-11-21T11:59:09.589522Z",
     "shell.execute_reply": "2023-11-21T12:06:44.253925Z"
    },
    "trusted": true
   },
   "execution_count": 14,
   "outputs": [
    {
     "name": "stdout",
     "text": "platform = tpu, x64 = False, scale = 1, first run = 8.095625162124634 s\nplatform = tpu, x64 = False, scale = 1, first run = 7.82029128074646 s\nScale = 1:\n{'exetime': [8.095625162124634, 7.82029128074646],\n 'runtime': [8.095625162124634, 7.82029128074646]}\nplatform = tpu, x64 = False, scale = 4, first run = 8.117016315460205 s\nplatform = tpu, x64 = False, scale = 4, first run = 8.010966062545776 s\nScale = 4:\n{'exetime': [8.117016315460205, 8.010966062545776],\n 'runtime': [8.117016315460205, 8.010966062545776]}\nplatform = tpu, x64 = False, scale = 8, first run = 8.053727149963379 s\nplatform = tpu, x64 = False, scale = 8, first run = 8.151676654815674 s\nScale = 8:\n{'exetime': [8.053727149963379, 8.151676654815674],\n 'runtime': [8.053727149963379, 8.151676654815674]}\nplatform = tpu, x64 = False, scale = 10, first run = 8.062843561172485 s\nplatform = tpu, x64 = False, scale = 10, first run = 8.424638509750366 s\nScale = 10:\n{'exetime': [8.062843561172485, 8.424638509750366],\n 'runtime': [8.062843561172485, 8.424638509750366]}\nplatform = tpu, x64 = False, scale = 20, first run = 8.1541006565094 s\nplatform = tpu, x64 = False, scale = 20, first run = 8.31865644454956 s\nScale = 20:\n{'exetime': [8.1541006565094, 8.31865644454956],\n 'runtime': [8.1541006565094, 8.31865644454956]}\nplatform = tpu, x64 = False, scale = 40, first run = 8.395008325576782 s\nplatform = tpu, x64 = False, scale = 40, first run = 8.648611545562744 s\nScale = 40:\n{'exetime': [8.395008325576782, 8.648611545562744],\n 'runtime': [8.395008325576782, 8.648611545562744]}\nplatform = tpu, x64 = False, scale = 60, first run = 8.770590543746948 s\nplatform = tpu, x64 = False, scale = 60, first run = 8.915472030639648 s\nScale = 60:\n{'exetime': [8.770590543746948, 8.915472030639648],\n 'runtime': [8.770590543746948, 8.915472030639648]}\nplatform = tpu, x64 = False, scale = 80, first run = 8.732295036315918 s\nplatform = tpu, x64 = False, scale = 80, first run = 9.152051210403442 s\nScale = 80:\n{'exetime': [8.732295036315918, 9.152051210403442],\n 'runtime': [8.732295036315918, 9.152051210403442]}\nplatform = tpu, x64 = False, scale = 100, first run = 8.880254983901978 s\nplatform = tpu, x64 = False, scale = 100, first run = 8.732125520706177 s\nScale = 100:\n{'exetime': [8.880254983901978, 8.732125520706177],\n 'runtime': [8.880254983901978, 8.732125520706177]}\nplatform = tpu, x64 = False, scale = 200, first run = 9.944590091705322 s\nplatform = tpu, x64 = False, scale = 200, first run = 9.428212881088257 s\nScale = 200:\n{'exetime': [9.944590091705322, 9.428212881088257],\n 'runtime': [9.944590091705322, 9.428212881088257]}\nplatform = tpu, x64 = False, scale = 400, first run = 11.0272958278656 s\nplatform = tpu, x64 = False, scale = 400, first run = 10.398850202560425 s\nScale = 400:\n{'exetime': [11.0272958278656, 10.398850202560425],\n 'runtime': [11.0272958278656, 10.398850202560425]}\nplatform = tpu, x64 = False, scale = 800, first run = 12.225567817687988 s\nplatform = tpu, x64 = False, scale = 800, first run = 12.647319078445435 s\nScale = 800:\n{'exetime': [12.225567817687988, 12.647319078445435],\n 'runtime': [12.225567817687988, 12.647319078445435]}\nplatform = tpu, x64 = False, scale = 1000, first run = 13.392454147338867 s\nplatform = tpu, x64 = False, scale = 1000, first run = 13.273364305496216 s\nScale = 1000:\n{'exetime': [13.392454147338867, 13.273364305496216],\n 'runtime': [13.392454147338867, 13.273364305496216]}\nplatform = tpu, x64 = False, scale = 2000, first run = 18.619253873825073 s\nplatform = tpu, x64 = False, scale = 2000, first run = 18.475635528564453 s\nScale = 2000:\n{'exetime': [18.619253873825073, 18.475635528564453],\n 'runtime': [18.619253873825073, 18.475635528564453]}\nplatform = tpu, x64 = False, scale = 4000, first run = 26.642637729644775 s\nplatform = tpu, x64 = False, scale = 4000, first run = 26.691759824752808 s\nScale = 4000:\n{'exetime': [26.642637729644775, 26.691759824752808],\n 'runtime': [26.642637729644775, 26.691759824752808]}\nplatform = tpu, x64 = False, scale = 8000, first run = 43.52123403549194 s\nplatform = tpu, x64 = False, scale = 8000, first run = 43.54282903671265 s\nScale = 8000:\n{'exetime': [43.52123403549194, 43.54282903671265],\n 'runtime': [43.52123403549194, 43.54282903671265]}\n",
     "output_type": "stream"
    },
    {
     "traceback": [
      "\u001B[0;31m---------------------------------------------------------------------------\u001B[0m",
      "\u001B[0;31mXlaRuntimeError\u001B[0m                           Traceback (most recent call last)",
      "Cell \u001B[0;32mIn[14], line 1\u001B[0m\n\u001B[0;32m----> 1\u001B[0m \u001B[43mbenchmark\u001B[49m\u001B[43m(\u001B[49m\u001B[43mjax\u001B[49m\u001B[38;5;241;43m.\u001B[39;49m\u001B[43mdevices\u001B[49m\u001B[43m(\u001B[49m\u001B[43m)\u001B[49m\u001B[43m,\u001B[49m\u001B[43m \u001B[49m\u001B[43mplatform\u001B[49m\u001B[38;5;241;43m=\u001B[39;49m\u001B[38;5;124;43m'\u001B[39;49m\u001B[38;5;124;43mtpu\u001B[39;49m\u001B[38;5;124;43m'\u001B[39;49m\u001B[43m,\u001B[49m\u001B[43m \u001B[49m\u001B[43mx64\u001B[49m\u001B[38;5;241;43m=\u001B[39;49m\u001B[38;5;28;43;01mFalse\u001B[39;49;00m\u001B[43m,\u001B[49m\u001B[43m \u001B[49m\u001B[43mscales\u001B[49m\u001B[38;5;241;43m=\u001B[39;49m\u001B[43m(\u001B[49m\u001B[38;5;241;43m1\u001B[39;49m\u001B[43m,\u001B[49m\u001B[43m \u001B[49m\u001B[38;5;241;43m4\u001B[39;49m\u001B[43m,\u001B[49m\u001B[43m \u001B[49m\u001B[38;5;241;43m8\u001B[39;49m\u001B[43m,\u001B[49m\u001B[43m \u001B[49m\u001B[38;5;241;43m10\u001B[39;49m\u001B[43m,\u001B[49m\u001B[43m \u001B[49m\u001B[38;5;241;43m20\u001B[39;49m\u001B[43m,\u001B[49m\u001B[43m \u001B[49m\u001B[38;5;241;43m40\u001B[39;49m\u001B[43m,\u001B[49m\u001B[43m \u001B[49m\u001B[38;5;241;43m60\u001B[39;49m\u001B[43m,\u001B[49m\u001B[43m \u001B[49m\u001B[38;5;241;43m80\u001B[39;49m\u001B[43m,\u001B[49m\u001B[43m \u001B[49m\u001B[38;5;241;43m100\u001B[39;49m\u001B[43m,\u001B[49m\u001B[43m \u001B[49m\u001B[38;5;241;43m200\u001B[39;49m\u001B[43m,\u001B[49m\u001B[43m \u001B[49m\n\u001B[1;32m      2\u001B[0m \u001B[43m                                                            \u001B[49m\u001B[38;5;241;43m400\u001B[39;49m\u001B[43m,\u001B[49m\u001B[43m \u001B[49m\u001B[38;5;241;43m800\u001B[39;49m\u001B[43m,\u001B[49m\u001B[43m \u001B[49m\u001B[38;5;241;43m1000\u001B[39;49m\u001B[43m,\u001B[49m\u001B[43m \u001B[49m\u001B[38;5;241;43m2000\u001B[39;49m\u001B[43m,\u001B[49m\u001B[43m \u001B[49m\u001B[38;5;241;43m4000\u001B[39;49m\u001B[43m,\u001B[49m\u001B[43m \u001B[49m\u001B[38;5;241;43m8000\u001B[39;49m\u001B[43m,\u001B[49m\u001B[43m \u001B[49m\u001B[38;5;241;43m10000\u001B[39;49m\u001B[43m)\u001B[49m\u001B[43m)\u001B[49m\n",
      "Cell \u001B[0;32mIn[12], line 7\u001B[0m, in \u001B[0;36mbenchmark\u001B[0;34m(devices, platform, x64, scales)\u001B[0m\n\u001B[1;32m      5\u001B[0m \u001B[38;5;28;01mfor\u001B[39;00m _ \u001B[38;5;129;01min\u001B[39;00m \u001B[38;5;28mrange\u001B[39m(\u001B[38;5;241m2\u001B[39m):\n\u001B[1;32m      6\u001B[0m     \u001B[38;5;28;01mwith\u001B[39;00m bm\u001B[38;5;241m.\u001B[39msharding\u001B[38;5;241m.\u001B[39mdevice_mesh(devices, [bm\u001B[38;5;241m.\u001B[39msharding\u001B[38;5;241m.\u001B[39mNEU_AXIS]):\n\u001B[0;32m----> 7\u001B[0m         r \u001B[38;5;241m=\u001B[39m \u001B[43msimulate_a_trial\u001B[49m\u001B[43m(\u001B[49m\u001B[43mscale\u001B[49m\u001B[38;5;241;43m=\u001B[39;49m\u001B[43mscale\u001B[49m\u001B[43m,\u001B[49m\u001B[43m \u001B[49m\u001B[43mplatform\u001B[49m\u001B[38;5;241;43m=\u001B[39;49m\u001B[43mplatform\u001B[49m\u001B[43m,\u001B[49m\u001B[43m \u001B[49m\u001B[43mx64\u001B[49m\u001B[38;5;241;43m=\u001B[39;49m\u001B[43mx64\u001B[49m\u001B[43m,\u001B[49m\u001B[43m \u001B[49m\u001B[43mmonitor\u001B[49m\u001B[38;5;241;43m=\u001B[39;49m\u001B[38;5;28;43;01mTrue\u001B[39;49;00m\u001B[43m)\u001B[49m\n\u001B[1;32m      8\u001B[0m     res[\u001B[38;5;124m'\u001B[39m\u001B[38;5;124mexetime\u001B[39m\u001B[38;5;124m'\u001B[39m]\u001B[38;5;241m.\u001B[39mappend(r[\u001B[38;5;124m'\u001B[39m\u001B[38;5;124mexe_time\u001B[39m\u001B[38;5;124m'\u001B[39m])\n\u001B[1;32m      9\u001B[0m     res[\u001B[38;5;124m'\u001B[39m\u001B[38;5;124mruntime\u001B[39m\u001B[38;5;124m'\u001B[39m]\u001B[38;5;241m.\u001B[39mappend(r[\u001B[38;5;124m'\u001B[39m\u001B[38;5;124mrun_time\u001B[39m\u001B[38;5;124m'\u001B[39m])\n",
      "Cell \u001B[0;32mIn[11], line 39\u001B[0m, in \u001B[0;36msimulate_a_trial\u001B[0;34m(scale, platform, x64, monitor)\u001B[0m\n\u001B[1;32m     37\u001B[0m \u001B[38;5;66;03m#   net.reset_state()\u001B[39;00m\n\u001B[1;32m     38\u001B[0m   t0 \u001B[38;5;241m=\u001B[39m time\u001B[38;5;241m.\u001B[39mtime()\n\u001B[0;32m---> 39\u001B[0m   mon \u001B[38;5;241m=\u001B[39m jax\u001B[38;5;241m.\u001B[39mblock_until_ready(\u001B[43mjit_run\u001B[49m\u001B[43m(\u001B[49m\u001B[43mindices\u001B[49m\u001B[43m)\u001B[49m)\n\u001B[1;32m     40\u001B[0m   t1 \u001B[38;5;241m=\u001B[39m time\u001B[38;5;241m.\u001B[39mtime()\n\u001B[1;32m     42\u001B[0m \u001B[38;5;66;03m#   # second running\u001B[39;00m\n\u001B[1;32m     43\u001B[0m \u001B[38;5;66;03m#   net.reset_state()\u001B[39;00m\n\u001B[1;32m     44\u001B[0m \u001B[38;5;66;03m#   t2 = time.time()\u001B[39;00m\n\u001B[0;32m   (...)\u001B[0m\n\u001B[1;32m     48\u001B[0m   \u001B[38;5;66;03m# mon['ts'] = indices * bm.get_dt()\u001B[39;00m\n\u001B[1;32m     49\u001B[0m   \u001B[38;5;66;03m# tool.visualize_results(mon, IA_freqs, IB_freqs)\u001B[39;00m\n",
      "File \u001B[0;32m/usr/local/lib/python3.10/site-packages/brainpy/_src/math/object_transform/jit.py:215\u001B[0m, in \u001B[0;36mJITTransform.__call__\u001B[0;34m(self, *args, **kwargs)\u001B[0m\n\u001B[1;32m    213\u001B[0m \u001B[38;5;66;03m# call the transformed function\u001B[39;00m\n\u001B[1;32m    214\u001B[0m rng_keys \u001B[38;5;241m=\u001B[39m \u001B[38;5;28mself\u001B[39m\u001B[38;5;241m.\u001B[39m_dyn_vars\u001B[38;5;241m.\u001B[39mcall_on_subset(_is_rng, _rng_split_key)\n\u001B[0;32m--> 215\u001B[0m changes, out \u001B[38;5;241m=\u001B[39m \u001B[38;5;28;43mself\u001B[39;49m\u001B[38;5;241;43m.\u001B[39;49m\u001B[43m_transform\u001B[49m\u001B[43m(\u001B[49m\u001B[38;5;28;43mself\u001B[39;49m\u001B[38;5;241;43m.\u001B[39;49m\u001B[43m_dyn_vars\u001B[49m\u001B[38;5;241;43m.\u001B[39;49m\u001B[43mdict_data\u001B[49m\u001B[43m(\u001B[49m\u001B[43m)\u001B[49m\u001B[43m,\u001B[49m\u001B[43m \u001B[49m\u001B[38;5;241;43m*\u001B[39;49m\u001B[43margs\u001B[49m\u001B[43m,\u001B[49m\u001B[43m \u001B[49m\u001B[38;5;241;43m*\u001B[39;49m\u001B[38;5;241;43m*\u001B[39;49m\u001B[43mkwargs\u001B[49m\u001B[43m)\u001B[49m\n\u001B[1;32m    216\u001B[0m \u001B[38;5;28;01mfor\u001B[39;00m key, v \u001B[38;5;129;01min\u001B[39;00m changes\u001B[38;5;241m.\u001B[39mitems():\n\u001B[1;32m    217\u001B[0m   \u001B[38;5;28mself\u001B[39m\u001B[38;5;241m.\u001B[39m_dyn_vars[key]\u001B[38;5;241m.\u001B[39m_value \u001B[38;5;241m=\u001B[39m v\n",
      "    \u001B[0;31m[... skipping hidden 10 frame]\u001B[0m\n",
      "File \u001B[0;32m/usr/local/lib/python3.10/site-packages/jax/_src/interpreters/pxla.py:1152\u001B[0m, in \u001B[0;36mExecuteReplicated.__call__\u001B[0;34m(self, *args)\u001B[0m\n\u001B[1;32m   1150\u001B[0m   \u001B[38;5;28mself\u001B[39m\u001B[38;5;241m.\u001B[39m_handle_token_bufs(result_token_bufs, sharded_runtime_token)\n\u001B[1;32m   1151\u001B[0m \u001B[38;5;28;01melse\u001B[39;00m:\n\u001B[0;32m-> 1152\u001B[0m   results \u001B[38;5;241m=\u001B[39m \u001B[38;5;28;43mself\u001B[39;49m\u001B[38;5;241;43m.\u001B[39;49m\u001B[43mxla_executable\u001B[49m\u001B[38;5;241;43m.\u001B[39;49m\u001B[43mexecute_sharded\u001B[49m\u001B[43m(\u001B[49m\u001B[43minput_bufs\u001B[49m\u001B[43m)\u001B[49m\n\u001B[1;32m   1153\u001B[0m \u001B[38;5;28;01mif\u001B[39;00m dispatch\u001B[38;5;241m.\u001B[39mneeds_check_special():\n\u001B[1;32m   1154\u001B[0m   out_arrays \u001B[38;5;241m=\u001B[39m results\u001B[38;5;241m.\u001B[39mdisassemble_into_single_device_arrays()\n",
      "\u001B[0;31mXlaRuntimeError\u001B[0m: RESOURCE_EXHAUSTED: Error loading program: Attempting to reserve 8.96G at the bottom of memory. That was not possible. There are 6.39G free, 0B reserved, and 6.39G reservable.: while running replica 0 and partition 0 of a replicated computation (other replicas may have failed as well)."
     ],
     "ename": "XlaRuntimeError",
     "evalue": "RESOURCE_EXHAUSTED: Error loading program: Attempting to reserve 8.96G at the bottom of memory. That was not possible. There are 6.39G free, 0B reserved, and 6.39G reservable.: while running replica 0 and partition 0 of a replicated computation (other replicas may have failed as well).",
     "output_type": "error"
    }
   ]
  },
  {
   "cell_type": "code",
   "source": [
    "benchmark(\n",
    "    jax.devices()[:4], \n",
    "    platform='tpu', \n",
    "    x64=False, \n",
    "    scales=(1, 4, 8, 10, 20, 40, 60, 80, 100, 200, 400, 800, 1000, 2000, 4000, 8000), \n",
    ")"
   ],
   "metadata": {
    "execution": {
     "iopub.status.busy": "2023-11-21T12:07:01.645417Z",
     "iopub.execute_input": "2023-11-21T12:07:01.645811Z",
     "iopub.status.idle": "2023-11-21T12:17:05.575068Z",
     "shell.execute_reply.started": "2023-11-21T12:07:01.645779Z",
     "shell.execute_reply": "2023-11-21T12:17:05.574142Z"
    },
    "trusted": true
   },
   "execution_count": 15,
   "outputs": [
    {
     "name": "stdout",
     "text": "platform = tpu, x64 = False, scale = 1, first run = 7.646655559539795 s\nplatform = tpu, x64 = False, scale = 1, first run = 8.274417400360107 s\nScale = 1:\n{'exetime': [7.646655559539795, 8.274417400360107],\n 'runtime': [7.646655559539795, 8.274417400360107]}\nplatform = tpu, x64 = False, scale = 4, first run = 7.800139665603638 s\nplatform = tpu, x64 = False, scale = 4, first run = 7.973190546035767 s\nScale = 4:\n{'exetime': [7.800139665603638, 7.973190546035767],\n 'runtime': [7.800139665603638, 7.973190546035767]}\nplatform = tpu, x64 = False, scale = 8, first run = 7.961609363555908 s\nplatform = tpu, x64 = False, scale = 8, first run = 8.504684448242188 s\nScale = 8:\n{'exetime': [7.961609363555908, 8.504684448242188],\n 'runtime': [7.961609363555908, 8.504684448242188]}\nplatform = tpu, x64 = False, scale = 10, first run = 8.145019292831421 s\nplatform = tpu, x64 = False, scale = 10, first run = 8.31432294845581 s\nScale = 10:\n{'exetime': [8.145019292831421, 8.31432294845581],\n 'runtime': [8.145019292831421, 8.31432294845581]}\nplatform = tpu, x64 = False, scale = 20, first run = 8.407434463500977 s\nplatform = tpu, x64 = False, scale = 20, first run = 8.772791624069214 s\nScale = 20:\n{'exetime': [8.407434463500977, 8.772791624069214],\n 'runtime': [8.407434463500977, 8.772791624069214]}\nplatform = tpu, x64 = False, scale = 40, first run = 8.659310340881348 s\nplatform = tpu, x64 = False, scale = 40, first run = 8.662739753723145 s\nScale = 40:\n{'exetime': [8.659310340881348, 8.662739753723145],\n 'runtime': [8.659310340881348, 8.662739753723145]}\nplatform = tpu, x64 = False, scale = 60, first run = 9.031068563461304 s\nplatform = tpu, x64 = False, scale = 60, first run = 9.617423295974731 s\nScale = 60:\n{'exetime': [9.031068563461304, 9.617423295974731],\n 'runtime': [9.031068563461304, 9.617423295974731]}\nplatform = tpu, x64 = False, scale = 80, first run = 9.17046594619751 s\nplatform = tpu, x64 = False, scale = 80, first run = 9.376384496688843 s\nScale = 80:\n{'exetime': [9.17046594619751, 9.376384496688843],\n 'runtime': [9.17046594619751, 9.376384496688843]}\nplatform = tpu, x64 = False, scale = 100, first run = 9.639132976531982 s\nplatform = tpu, x64 = False, scale = 100, first run = 9.625280618667603 s\nScale = 100:\n{'exetime': [9.639132976531982, 9.625280618667603],\n 'runtime': [9.639132976531982, 9.625280618667603]}\nplatform = tpu, x64 = False, scale = 200, first run = 11.532346487045288 s\nplatform = tpu, x64 = False, scale = 200, first run = 10.941951036453247 s\nScale = 200:\n{'exetime': [11.532346487045288, 10.941951036453247],\n 'runtime': [11.532346487045288, 10.941951036453247]}\nplatform = tpu, x64 = False, scale = 400, first run = 12.56257152557373 s\nplatform = tpu, x64 = False, scale = 400, first run = 12.826901912689209 s\nScale = 400:\n{'exetime': [12.56257152557373, 12.826901912689209],\n 'runtime': [12.56257152557373, 12.826901912689209]}\nplatform = tpu, x64 = False, scale = 800, first run = 16.899569034576416 s\nplatform = tpu, x64 = False, scale = 800, first run = 16.85618233680725 s\nScale = 800:\n{'exetime': [16.899569034576416, 16.85618233680725],\n 'runtime': [16.899569034576416, 16.85618233680725]}\nplatform = tpu, x64 = False, scale = 1000, first run = 19.29962158203125 s\nplatform = tpu, x64 = False, scale = 1000, first run = 19.205915212631226 s\nScale = 1000:\n{'exetime': [19.29962158203125, 19.205915212631226],\n 'runtime': [19.29962158203125, 19.205915212631226]}\nplatform = tpu, x64 = False, scale = 2000, first run = 27.74257254600525 s\nplatform = tpu, x64 = False, scale = 2000, first run = 28.190865516662598 s\nScale = 2000:\n{'exetime': [27.74257254600525, 28.190865516662598],\n 'runtime': [27.74257254600525, 28.190865516662598]}\nplatform = tpu, x64 = False, scale = 4000, first run = 46.13015675544739 s\nplatform = tpu, x64 = False, scale = 4000, first run = 46.44554567337036 s\nScale = 4000:\n{'exetime': [46.13015675544739, 46.44554567337036],\n 'runtime': [46.13015675544739, 46.44554567337036]}\nplatform = tpu, x64 = False, scale = 8000, first run = 81.17017197608948 s\nplatform = tpu, x64 = False, scale = 8000, first run = 81.27293133735657 s\nScale = 8000:\n{'exetime': [81.17017197608948, 81.27293133735657],\n 'runtime': [81.17017197608948, 81.27293133735657]}\n",
     "output_type": "stream"
    }
   ]
  },
  {
   "cell_type": "code",
   "source": [
    "benchmark(\n",
    "    jax.devices()[:2], \n",
    "    platform='tpu', \n",
    "    x64=False, \n",
    "    scales=(1, 4, 8, 10, 20, 40, 60, 80, 100, 200, 400, 800, 1000, 2000, 4000, 8000), \n",
    ")"
   ],
   "metadata": {
    "execution": {
     "iopub.status.busy": "2023-11-21T12:17:33.157307Z",
     "iopub.execute_input": "2023-11-21T12:17:33.157680Z",
     "iopub.status.idle": "2023-11-21T12:25:19.903125Z",
     "shell.execute_reply.started": "2023-11-21T12:17:33.157647Z",
     "shell.execute_reply": "2023-11-21T12:25:19.901883Z"
    },
    "trusted": true
   },
   "execution_count": 16,
   "outputs": [
    {
     "name": "stdout",
     "text": "platform = tpu, x64 = False, scale = 1, first run = 6.603653192520142 s\nplatform = tpu, x64 = False, scale = 1, first run = 6.030699014663696 s\nScale = 1:\n{'exetime': [6.603653192520142, 6.030699014663696],\n 'runtime': [6.603653192520142, 6.030699014663696]}\nplatform = tpu, x64 = False, scale = 4, first run = 6.159245014190674 s\nplatform = tpu, x64 = False, scale = 4, first run = 6.222467660903931 s\nScale = 4:\n{'exetime': [6.159245014190674, 6.222467660903931],\n 'runtime': [6.159245014190674, 6.222467660903931]}\nplatform = tpu, x64 = False, scale = 8, first run = 6.183906078338623 s\nplatform = tpu, x64 = False, scale = 8, first run = 6.308734178543091 s\nScale = 8:\n{'exetime': [6.183906078338623, 6.308734178543091],\n 'runtime': [6.183906078338623, 6.308734178543091]}\nplatform = tpu, x64 = False, scale = 10, first run = 6.830740451812744 s\nplatform = tpu, x64 = False, scale = 10, first run = 6.270754814147949 s\nScale = 10:\n{'exetime': [6.830740451812744, 6.270754814147949],\n 'runtime': [6.830740451812744, 6.270754814147949]}\nplatform = tpu, x64 = False, scale = 20, first run = 6.461661338806152 s\nplatform = tpu, x64 = False, scale = 20, first run = 6.56330132484436 s\nScale = 20:\n{'exetime': [6.461661338806152, 6.56330132484436],\n 'runtime': [6.461661338806152, 6.56330132484436]}\nplatform = tpu, x64 = False, scale = 40, first run = 6.847935199737549 s\nplatform = tpu, x64 = False, scale = 40, first run = 7.608108043670654 s\nScale = 40:\n{'exetime': [6.847935199737549, 7.608108043670654],\n 'runtime': [6.847935199737549, 7.608108043670654]}\nplatform = tpu, x64 = False, scale = 60, first run = 7.27758264541626 s\nplatform = tpu, x64 = False, scale = 60, first run = 7.388188123703003 s\nScale = 60:\n{'exetime': [7.27758264541626, 7.388188123703003],\n 'runtime': [7.27758264541626, 7.388188123703003]}\nplatform = tpu, x64 = False, scale = 80, first run = 7.4345622062683105 s\nplatform = tpu, x64 = False, scale = 80, first run = 7.62351655960083 s\nScale = 80:\n{'exetime': [7.4345622062683105, 7.62351655960083],\n 'runtime': [7.4345622062683105, 7.62351655960083]}\nplatform = tpu, x64 = False, scale = 100, first run = 8.053043603897095 s\nplatform = tpu, x64 = False, scale = 100, first run = 8.774912595748901 s\nScale = 100:\n{'exetime': [8.053043603897095, 8.774912595748901],\n 'runtime': [8.053043603897095, 8.774912595748901]}\nplatform = tpu, x64 = False, scale = 200, first run = 9.655725002288818 s\nplatform = tpu, x64 = False, scale = 200, first run = 9.833409786224365 s\nScale = 200:\n{'exetime': [9.655725002288818, 9.833409786224365],\n 'runtime': [9.655725002288818, 9.833409786224365]}\nplatform = tpu, x64 = False, scale = 400, first run = 12.466203212738037 s\nplatform = tpu, x64 = False, scale = 400, first run = 12.531886577606201 s\nScale = 400:\n{'exetime': [12.466203212738037, 12.531886577606201],\n 'runtime': [12.466203212738037, 12.531886577606201]}\nplatform = tpu, x64 = False, scale = 800, first run = 18.285692930221558 s\nplatform = tpu, x64 = False, scale = 800, first run = 19.01385474205017 s\nScale = 800:\n{'exetime': [18.285692930221558, 19.01385474205017],\n 'runtime': [18.285692930221558, 19.01385474205017]}\nplatform = tpu, x64 = False, scale = 1000, first run = 21.08808445930481 s\nplatform = tpu, x64 = False, scale = 1000, first run = 21.14182949066162 s\nScale = 1000:\n{'exetime': [21.08808445930481, 21.14182949066162],\n 'runtime': [21.08808445930481, 21.14182949066162]}\nplatform = tpu, x64 = False, scale = 2000, first run = 35.90705871582031 s\nplatform = tpu, x64 = False, scale = 2000, first run = 36.40546774864197 s\nScale = 2000:\n{'exetime': [35.90705871582031, 36.40546774864197],\n 'runtime': [35.90705871582031, 36.40546774864197]}\nplatform = tpu, x64 = False, scale = 4000, first run = 59.75226902961731 s\nplatform = tpu, x64 = False, scale = 4000, first run = 60.22488260269165 s\nScale = 4000:\n{'exetime': [59.75226902961731, 60.22488260269165],\n 'runtime': [59.75226902961731, 60.22488260269165]}\n",
     "output_type": "stream"
    },
    {
     "traceback": [
      "\u001B[0;31m---------------------------------------------------------------------------\u001B[0m",
      "\u001B[0;31mXlaRuntimeError\u001B[0m                           Traceback (most recent call last)",
      "Cell \u001B[0;32mIn[16], line 1\u001B[0m\n\u001B[0;32m----> 1\u001B[0m \u001B[43mbenchmark\u001B[49m\u001B[43m(\u001B[49m\n\u001B[1;32m      2\u001B[0m \u001B[43m    \u001B[49m\u001B[43mjax\u001B[49m\u001B[38;5;241;43m.\u001B[39;49m\u001B[43mdevices\u001B[49m\u001B[43m(\u001B[49m\u001B[43m)\u001B[49m\u001B[43m[\u001B[49m\u001B[43m:\u001B[49m\u001B[38;5;241;43m2\u001B[39;49m\u001B[43m]\u001B[49m\u001B[43m,\u001B[49m\u001B[43m \u001B[49m\n\u001B[1;32m      3\u001B[0m \u001B[43m    \u001B[49m\u001B[43mplatform\u001B[49m\u001B[38;5;241;43m=\u001B[39;49m\u001B[38;5;124;43m'\u001B[39;49m\u001B[38;5;124;43mtpu\u001B[39;49m\u001B[38;5;124;43m'\u001B[39;49m\u001B[43m,\u001B[49m\u001B[43m \u001B[49m\n\u001B[1;32m      4\u001B[0m \u001B[43m    \u001B[49m\u001B[43mx64\u001B[49m\u001B[38;5;241;43m=\u001B[39;49m\u001B[38;5;28;43;01mFalse\u001B[39;49;00m\u001B[43m,\u001B[49m\u001B[43m \u001B[49m\n\u001B[1;32m      5\u001B[0m \u001B[43m    \u001B[49m\u001B[43mscales\u001B[49m\u001B[38;5;241;43m=\u001B[39;49m\u001B[43m(\u001B[49m\u001B[38;5;241;43m1\u001B[39;49m\u001B[43m,\u001B[49m\u001B[43m \u001B[49m\u001B[38;5;241;43m4\u001B[39;49m\u001B[43m,\u001B[49m\u001B[43m \u001B[49m\u001B[38;5;241;43m8\u001B[39;49m\u001B[43m,\u001B[49m\u001B[43m \u001B[49m\u001B[38;5;241;43m10\u001B[39;49m\u001B[43m,\u001B[49m\u001B[43m \u001B[49m\u001B[38;5;241;43m20\u001B[39;49m\u001B[43m,\u001B[49m\u001B[43m \u001B[49m\u001B[38;5;241;43m40\u001B[39;49m\u001B[43m,\u001B[49m\u001B[43m \u001B[49m\u001B[38;5;241;43m60\u001B[39;49m\u001B[43m,\u001B[49m\u001B[43m \u001B[49m\u001B[38;5;241;43m80\u001B[39;49m\u001B[43m,\u001B[49m\u001B[43m \u001B[49m\u001B[38;5;241;43m100\u001B[39;49m\u001B[43m,\u001B[49m\u001B[43m \u001B[49m\u001B[38;5;241;43m200\u001B[39;49m\u001B[43m,\u001B[49m\u001B[43m \u001B[49m\u001B[38;5;241;43m400\u001B[39;49m\u001B[43m,\u001B[49m\u001B[43m \u001B[49m\u001B[38;5;241;43m800\u001B[39;49m\u001B[43m,\u001B[49m\u001B[43m \u001B[49m\u001B[38;5;241;43m1000\u001B[39;49m\u001B[43m,\u001B[49m\u001B[43m \u001B[49m\u001B[38;5;241;43m2000\u001B[39;49m\u001B[43m,\u001B[49m\u001B[43m \u001B[49m\u001B[38;5;241;43m4000\u001B[39;49m\u001B[43m,\u001B[49m\u001B[43m \u001B[49m\u001B[38;5;241;43m8000\u001B[39;49m\u001B[43m)\u001B[49m\u001B[43m,\u001B[49m\u001B[43m \u001B[49m\n\u001B[1;32m      6\u001B[0m \u001B[43m)\u001B[49m\n",
      "Cell \u001B[0;32mIn[12], line 7\u001B[0m, in \u001B[0;36mbenchmark\u001B[0;34m(devices, platform, x64, scales)\u001B[0m\n\u001B[1;32m      5\u001B[0m \u001B[38;5;28;01mfor\u001B[39;00m _ \u001B[38;5;129;01min\u001B[39;00m \u001B[38;5;28mrange\u001B[39m(\u001B[38;5;241m2\u001B[39m):\n\u001B[1;32m      6\u001B[0m     \u001B[38;5;28;01mwith\u001B[39;00m bm\u001B[38;5;241m.\u001B[39msharding\u001B[38;5;241m.\u001B[39mdevice_mesh(devices, [bm\u001B[38;5;241m.\u001B[39msharding\u001B[38;5;241m.\u001B[39mNEU_AXIS]):\n\u001B[0;32m----> 7\u001B[0m         r \u001B[38;5;241m=\u001B[39m \u001B[43msimulate_a_trial\u001B[49m\u001B[43m(\u001B[49m\u001B[43mscale\u001B[49m\u001B[38;5;241;43m=\u001B[39;49m\u001B[43mscale\u001B[49m\u001B[43m,\u001B[49m\u001B[43m \u001B[49m\u001B[43mplatform\u001B[49m\u001B[38;5;241;43m=\u001B[39;49m\u001B[43mplatform\u001B[49m\u001B[43m,\u001B[49m\u001B[43m \u001B[49m\u001B[43mx64\u001B[49m\u001B[38;5;241;43m=\u001B[39;49m\u001B[43mx64\u001B[49m\u001B[43m,\u001B[49m\u001B[43m \u001B[49m\u001B[43mmonitor\u001B[49m\u001B[38;5;241;43m=\u001B[39;49m\u001B[38;5;28;43;01mTrue\u001B[39;49;00m\u001B[43m)\u001B[49m\n\u001B[1;32m      8\u001B[0m     res[\u001B[38;5;124m'\u001B[39m\u001B[38;5;124mexetime\u001B[39m\u001B[38;5;124m'\u001B[39m]\u001B[38;5;241m.\u001B[39mappend(r[\u001B[38;5;124m'\u001B[39m\u001B[38;5;124mexe_time\u001B[39m\u001B[38;5;124m'\u001B[39m])\n\u001B[1;32m      9\u001B[0m     res[\u001B[38;5;124m'\u001B[39m\u001B[38;5;124mruntime\u001B[39m\u001B[38;5;124m'\u001B[39m]\u001B[38;5;241m.\u001B[39mappend(r[\u001B[38;5;124m'\u001B[39m\u001B[38;5;124mrun_time\u001B[39m\u001B[38;5;124m'\u001B[39m])\n",
      "Cell \u001B[0;32mIn[11], line 39\u001B[0m, in \u001B[0;36msimulate_a_trial\u001B[0;34m(scale, platform, x64, monitor)\u001B[0m\n\u001B[1;32m     37\u001B[0m \u001B[38;5;66;03m#   net.reset_state()\u001B[39;00m\n\u001B[1;32m     38\u001B[0m   t0 \u001B[38;5;241m=\u001B[39m time\u001B[38;5;241m.\u001B[39mtime()\n\u001B[0;32m---> 39\u001B[0m   mon \u001B[38;5;241m=\u001B[39m jax\u001B[38;5;241m.\u001B[39mblock_until_ready(\u001B[43mjit_run\u001B[49m\u001B[43m(\u001B[49m\u001B[43mindices\u001B[49m\u001B[43m)\u001B[49m)\n\u001B[1;32m     40\u001B[0m   t1 \u001B[38;5;241m=\u001B[39m time\u001B[38;5;241m.\u001B[39mtime()\n\u001B[1;32m     42\u001B[0m \u001B[38;5;66;03m#   # second running\u001B[39;00m\n\u001B[1;32m     43\u001B[0m \u001B[38;5;66;03m#   net.reset_state()\u001B[39;00m\n\u001B[1;32m     44\u001B[0m \u001B[38;5;66;03m#   t2 = time.time()\u001B[39;00m\n\u001B[0;32m   (...)\u001B[0m\n\u001B[1;32m     48\u001B[0m   \u001B[38;5;66;03m# mon['ts'] = indices * bm.get_dt()\u001B[39;00m\n\u001B[1;32m     49\u001B[0m   \u001B[38;5;66;03m# tool.visualize_results(mon, IA_freqs, IB_freqs)\u001B[39;00m\n",
      "File \u001B[0;32m/usr/local/lib/python3.10/site-packages/brainpy/_src/math/object_transform/jit.py:215\u001B[0m, in \u001B[0;36mJITTransform.__call__\u001B[0;34m(self, *args, **kwargs)\u001B[0m\n\u001B[1;32m    213\u001B[0m \u001B[38;5;66;03m# call the transformed function\u001B[39;00m\n\u001B[1;32m    214\u001B[0m rng_keys \u001B[38;5;241m=\u001B[39m \u001B[38;5;28mself\u001B[39m\u001B[38;5;241m.\u001B[39m_dyn_vars\u001B[38;5;241m.\u001B[39mcall_on_subset(_is_rng, _rng_split_key)\n\u001B[0;32m--> 215\u001B[0m changes, out \u001B[38;5;241m=\u001B[39m \u001B[38;5;28;43mself\u001B[39;49m\u001B[38;5;241;43m.\u001B[39;49m\u001B[43m_transform\u001B[49m\u001B[43m(\u001B[49m\u001B[38;5;28;43mself\u001B[39;49m\u001B[38;5;241;43m.\u001B[39;49m\u001B[43m_dyn_vars\u001B[49m\u001B[38;5;241;43m.\u001B[39;49m\u001B[43mdict_data\u001B[49m\u001B[43m(\u001B[49m\u001B[43m)\u001B[49m\u001B[43m,\u001B[49m\u001B[43m \u001B[49m\u001B[38;5;241;43m*\u001B[39;49m\u001B[43margs\u001B[49m\u001B[43m,\u001B[49m\u001B[43m \u001B[49m\u001B[38;5;241;43m*\u001B[39;49m\u001B[38;5;241;43m*\u001B[39;49m\u001B[43mkwargs\u001B[49m\u001B[43m)\u001B[49m\n\u001B[1;32m    216\u001B[0m \u001B[38;5;28;01mfor\u001B[39;00m key, v \u001B[38;5;129;01min\u001B[39;00m changes\u001B[38;5;241m.\u001B[39mitems():\n\u001B[1;32m    217\u001B[0m   \u001B[38;5;28mself\u001B[39m\u001B[38;5;241m.\u001B[39m_dyn_vars[key]\u001B[38;5;241m.\u001B[39m_value \u001B[38;5;241m=\u001B[39m v\n",
      "    \u001B[0;31m[... skipping hidden 10 frame]\u001B[0m\n",
      "File \u001B[0;32m/usr/local/lib/python3.10/site-packages/jax/_src/interpreters/pxla.py:1152\u001B[0m, in \u001B[0;36mExecuteReplicated.__call__\u001B[0;34m(self, *args)\u001B[0m\n\u001B[1;32m   1150\u001B[0m   \u001B[38;5;28mself\u001B[39m\u001B[38;5;241m.\u001B[39m_handle_token_bufs(result_token_bufs, sharded_runtime_token)\n\u001B[1;32m   1151\u001B[0m \u001B[38;5;28;01melse\u001B[39;00m:\n\u001B[0;32m-> 1152\u001B[0m   results \u001B[38;5;241m=\u001B[39m \u001B[38;5;28;43mself\u001B[39;49m\u001B[38;5;241;43m.\u001B[39;49m\u001B[43mxla_executable\u001B[49m\u001B[38;5;241;43m.\u001B[39;49m\u001B[43mexecute_sharded\u001B[49m\u001B[43m(\u001B[49m\u001B[43minput_bufs\u001B[49m\u001B[43m)\u001B[49m\n\u001B[1;32m   1153\u001B[0m \u001B[38;5;28;01mif\u001B[39;00m dispatch\u001B[38;5;241m.\u001B[39mneeds_check_special():\n\u001B[1;32m   1154\u001B[0m   out_arrays \u001B[38;5;241m=\u001B[39m results\u001B[38;5;241m.\u001B[39mdisassemble_into_single_device_arrays()\n",
      "\u001B[0;31mXlaRuntimeError\u001B[0m: RESOURCE_EXHAUSTED: Error allocating device buffer: Attempting to allocate 14.30G. That was not possible. There are 706.58M free.; (0x0x0_HBM0): while running replica 0 and partition 0 of a replicated computation (other replicas may have failed as well)."
     ],
     "ename": "XlaRuntimeError",
     "evalue": "RESOURCE_EXHAUSTED: Error allocating device buffer: Attempting to allocate 14.30G. That was not possible. There are 706.58M free.; (0x0x0_HBM0): while running replica 0 and partition 0 of a replicated computation (other replicas may have failed as well).",
     "output_type": "error"
    }
   ]
  },
  {
   "cell_type": "code",
   "source": [
    "benchmark(\n",
    "    jax.devices()[:1], \n",
    "    platform='tpu', \n",
    "    x64=False, \n",
    "    scales=(1, 4, 8, 10, 20, 40, 60, 80, 100, 200, 400, 800, 1000, 2000, 4000, 8000), \n",
    ")"
   ],
   "metadata": {
    "execution": {
     "iopub.status.busy": "2023-11-21T12:27:08.656693Z",
     "iopub.execute_input": "2023-11-21T12:27:08.657238Z",
     "iopub.status.idle": "2023-11-21T12:33:31.408179Z",
     "shell.execute_reply.started": "2023-11-21T12:27:08.657183Z",
     "shell.execute_reply": "2023-11-21T12:33:31.406981Z"
    },
    "trusted": true
   },
   "execution_count": 18,
   "outputs": [
    {
     "name": "stdout",
     "text": "platform = tpu, x64 = False, scale = 1, first run = 4.9059929847717285 s\nplatform = tpu, x64 = False, scale = 1, first run = 4.815359354019165 s\nScale = 1:\n{'exetime': [4.9059929847717285, 4.815359354019165],\n 'runtime': [4.9059929847717285, 4.815359354019165]}\nplatform = tpu, x64 = False, scale = 4, first run = 5.15300726890564 s\nplatform = tpu, x64 = False, scale = 4, first run = 5.128577709197998 s\nScale = 4:\n{'exetime': [5.15300726890564, 5.128577709197998],\n 'runtime': [5.15300726890564, 5.128577709197998]}\nplatform = tpu, x64 = False, scale = 8, first run = 5.963993787765503 s\nplatform = tpu, x64 = False, scale = 8, first run = 5.169392108917236 s\nScale = 8:\n{'exetime': [5.963993787765503, 5.169392108917236],\n 'runtime': [5.963993787765503, 5.169392108917236]}\nplatform = tpu, x64 = False, scale = 10, first run = 5.428404092788696 s\nplatform = tpu, x64 = False, scale = 10, first run = 5.571969270706177 s\nScale = 10:\n{'exetime': [5.428404092788696, 5.571969270706177],\n 'runtime': [5.428404092788696, 5.571969270706177]}\nplatform = tpu, x64 = False, scale = 20, first run = 5.827314853668213 s\nplatform = tpu, x64 = False, scale = 20, first run = 5.928236246109009 s\nScale = 20:\n{'exetime': [5.827314853668213, 5.928236246109009],\n 'runtime': [5.827314853668213, 5.928236246109009]}\nplatform = tpu, x64 = False, scale = 40, first run = 6.349504232406616 s\nplatform = tpu, x64 = False, scale = 40, first run = 7.536381483078003 s\nScale = 40:\n{'exetime': [6.349504232406616, 7.536381483078003],\n 'runtime': [6.349504232406616, 7.536381483078003]}\nplatform = tpu, x64 = False, scale = 60, first run = 7.082366943359375 s\nplatform = tpu, x64 = False, scale = 60, first run = 7.28221321105957 s\nScale = 60:\n{'exetime': [7.082366943359375, 7.28221321105957],\n 'runtime': [7.082366943359375, 7.28221321105957]}\nplatform = tpu, x64 = False, scale = 80, first run = 7.68535041809082 s\nplatform = tpu, x64 = False, scale = 80, first run = 7.645176410675049 s\nScale = 80:\n{'exetime': [7.68535041809082, 7.645176410675049],\n 'runtime': [7.68535041809082, 7.645176410675049]}\nplatform = tpu, x64 = False, scale = 100, first run = 7.952698469161987 s\nplatform = tpu, x64 = False, scale = 100, first run = 8.082240581512451 s\nScale = 100:\n{'exetime': [7.952698469161987, 8.082240581512451],\n 'runtime': [7.952698469161987, 8.082240581512451]}\nplatform = tpu, x64 = False, scale = 200, first run = 11.827704906463623 s\nplatform = tpu, x64 = False, scale = 200, first run = 10.731132507324219 s\nScale = 200:\n{'exetime': [11.827704906463623, 10.731132507324219],\n 'runtime': [11.827704906463623, 10.731132507324219]}\nplatform = tpu, x64 = False, scale = 400, first run = 15.357903242111206 s\nplatform = tpu, x64 = False, scale = 400, first run = 15.45228123664856 s\nScale = 400:\n{'exetime': [15.357903242111206, 15.45228123664856],\n 'runtime': [15.357903242111206, 15.45228123664856]}\nplatform = tpu, x64 = False, scale = 800, first run = 24.504535675048828 s\nplatform = tpu, x64 = False, scale = 800, first run = 24.572490453720093 s\nScale = 800:\n{'exetime': [24.504535675048828, 24.572490453720093],\n 'runtime': [24.504535675048828, 24.572490453720093]}\nplatform = tpu, x64 = False, scale = 1000, first run = 28.6421217918396 s\nplatform = tpu, x64 = False, scale = 1000, first run = 28.575903177261353 s\nScale = 1000:\n{'exetime': [28.6421217918396, 28.575903177261353],\n 'runtime': [28.6421217918396, 28.575903177261353]}\nplatform = tpu, x64 = False, scale = 2000, first run = 50.13547325134277 s\nplatform = tpu, x64 = False, scale = 2000, first run = 48.73588538169861 s\nScale = 2000:\n{'exetime': [50.13547325134277, 48.73588538169861],\n 'runtime': [50.13547325134277, 48.73588538169861]}\n",
     "output_type": "stream"
    },
    {
     "traceback": [
      "\u001B[0;31m---------------------------------------------------------------------------\u001B[0m",
      "\u001B[0;31mXlaRuntimeError\u001B[0m                           Traceback (most recent call last)",
      "Cell \u001B[0;32mIn[18], line 1\u001B[0m\n\u001B[0;32m----> 1\u001B[0m \u001B[43mbenchmark\u001B[49m\u001B[43m(\u001B[49m\n\u001B[1;32m      2\u001B[0m \u001B[43m    \u001B[49m\u001B[43mjax\u001B[49m\u001B[38;5;241;43m.\u001B[39;49m\u001B[43mdevices\u001B[49m\u001B[43m(\u001B[49m\u001B[43m)\u001B[49m\u001B[43m[\u001B[49m\u001B[43m:\u001B[49m\u001B[38;5;241;43m1\u001B[39;49m\u001B[43m]\u001B[49m\u001B[43m,\u001B[49m\u001B[43m \u001B[49m\n\u001B[1;32m      3\u001B[0m \u001B[43m    \u001B[49m\u001B[43mplatform\u001B[49m\u001B[38;5;241;43m=\u001B[39;49m\u001B[38;5;124;43m'\u001B[39;49m\u001B[38;5;124;43mtpu\u001B[39;49m\u001B[38;5;124;43m'\u001B[39;49m\u001B[43m,\u001B[49m\u001B[43m \u001B[49m\n\u001B[1;32m      4\u001B[0m \u001B[43m    \u001B[49m\u001B[43mx64\u001B[49m\u001B[38;5;241;43m=\u001B[39;49m\u001B[38;5;28;43;01mFalse\u001B[39;49;00m\u001B[43m,\u001B[49m\u001B[43m \u001B[49m\n\u001B[1;32m      5\u001B[0m \u001B[43m    \u001B[49m\u001B[43mscales\u001B[49m\u001B[38;5;241;43m=\u001B[39;49m\u001B[43m(\u001B[49m\u001B[38;5;241;43m1\u001B[39;49m\u001B[43m,\u001B[49m\u001B[43m \u001B[49m\u001B[38;5;241;43m4\u001B[39;49m\u001B[43m,\u001B[49m\u001B[43m \u001B[49m\u001B[38;5;241;43m8\u001B[39;49m\u001B[43m,\u001B[49m\u001B[43m \u001B[49m\u001B[38;5;241;43m10\u001B[39;49m\u001B[43m,\u001B[49m\u001B[43m \u001B[49m\u001B[38;5;241;43m20\u001B[39;49m\u001B[43m,\u001B[49m\u001B[43m \u001B[49m\u001B[38;5;241;43m40\u001B[39;49m\u001B[43m,\u001B[49m\u001B[43m \u001B[49m\u001B[38;5;241;43m60\u001B[39;49m\u001B[43m,\u001B[49m\u001B[43m \u001B[49m\u001B[38;5;241;43m80\u001B[39;49m\u001B[43m,\u001B[49m\u001B[43m \u001B[49m\u001B[38;5;241;43m100\u001B[39;49m\u001B[43m,\u001B[49m\u001B[43m \u001B[49m\u001B[38;5;241;43m200\u001B[39;49m\u001B[43m,\u001B[49m\u001B[43m \u001B[49m\u001B[38;5;241;43m400\u001B[39;49m\u001B[43m,\u001B[49m\u001B[43m \u001B[49m\u001B[38;5;241;43m800\u001B[39;49m\u001B[43m,\u001B[49m\u001B[43m \u001B[49m\u001B[38;5;241;43m1000\u001B[39;49m\u001B[43m,\u001B[49m\u001B[43m \u001B[49m\u001B[38;5;241;43m2000\u001B[39;49m\u001B[43m,\u001B[49m\u001B[43m \u001B[49m\u001B[38;5;241;43m4000\u001B[39;49m\u001B[43m,\u001B[49m\u001B[43m \u001B[49m\u001B[38;5;241;43m8000\u001B[39;49m\u001B[43m)\u001B[49m\u001B[43m,\u001B[49m\u001B[43m \u001B[49m\n\u001B[1;32m      6\u001B[0m \u001B[43m)\u001B[49m\n",
      "Cell \u001B[0;32mIn[12], line 7\u001B[0m, in \u001B[0;36mbenchmark\u001B[0;34m(devices, platform, x64, scales)\u001B[0m\n\u001B[1;32m      5\u001B[0m \u001B[38;5;28;01mfor\u001B[39;00m _ \u001B[38;5;129;01min\u001B[39;00m \u001B[38;5;28mrange\u001B[39m(\u001B[38;5;241m2\u001B[39m):\n\u001B[1;32m      6\u001B[0m     \u001B[38;5;28;01mwith\u001B[39;00m bm\u001B[38;5;241m.\u001B[39msharding\u001B[38;5;241m.\u001B[39mdevice_mesh(devices, [bm\u001B[38;5;241m.\u001B[39msharding\u001B[38;5;241m.\u001B[39mNEU_AXIS]):\n\u001B[0;32m----> 7\u001B[0m         r \u001B[38;5;241m=\u001B[39m \u001B[43msimulate_a_trial\u001B[49m\u001B[43m(\u001B[49m\u001B[43mscale\u001B[49m\u001B[38;5;241;43m=\u001B[39;49m\u001B[43mscale\u001B[49m\u001B[43m,\u001B[49m\u001B[43m \u001B[49m\u001B[43mplatform\u001B[49m\u001B[38;5;241;43m=\u001B[39;49m\u001B[43mplatform\u001B[49m\u001B[43m,\u001B[49m\u001B[43m \u001B[49m\u001B[43mx64\u001B[49m\u001B[38;5;241;43m=\u001B[39;49m\u001B[43mx64\u001B[49m\u001B[43m,\u001B[49m\u001B[43m \u001B[49m\u001B[43mmonitor\u001B[49m\u001B[38;5;241;43m=\u001B[39;49m\u001B[38;5;28;43;01mTrue\u001B[39;49;00m\u001B[43m)\u001B[49m\n\u001B[1;32m      8\u001B[0m     res[\u001B[38;5;124m'\u001B[39m\u001B[38;5;124mexetime\u001B[39m\u001B[38;5;124m'\u001B[39m]\u001B[38;5;241m.\u001B[39mappend(r[\u001B[38;5;124m'\u001B[39m\u001B[38;5;124mexe_time\u001B[39m\u001B[38;5;124m'\u001B[39m])\n\u001B[1;32m      9\u001B[0m     res[\u001B[38;5;124m'\u001B[39m\u001B[38;5;124mruntime\u001B[39m\u001B[38;5;124m'\u001B[39m]\u001B[38;5;241m.\u001B[39mappend(r[\u001B[38;5;124m'\u001B[39m\u001B[38;5;124mrun_time\u001B[39m\u001B[38;5;124m'\u001B[39m])\n",
      "Cell \u001B[0;32mIn[11], line 39\u001B[0m, in \u001B[0;36msimulate_a_trial\u001B[0;34m(scale, platform, x64, monitor)\u001B[0m\n\u001B[1;32m     37\u001B[0m \u001B[38;5;66;03m#   net.reset_state()\u001B[39;00m\n\u001B[1;32m     38\u001B[0m   t0 \u001B[38;5;241m=\u001B[39m time\u001B[38;5;241m.\u001B[39mtime()\n\u001B[0;32m---> 39\u001B[0m   mon \u001B[38;5;241m=\u001B[39m jax\u001B[38;5;241m.\u001B[39mblock_until_ready(\u001B[43mjit_run\u001B[49m\u001B[43m(\u001B[49m\u001B[43mindices\u001B[49m\u001B[43m)\u001B[49m)\n\u001B[1;32m     40\u001B[0m   t1 \u001B[38;5;241m=\u001B[39m time\u001B[38;5;241m.\u001B[39mtime()\n\u001B[1;32m     42\u001B[0m \u001B[38;5;66;03m#   # second running\u001B[39;00m\n\u001B[1;32m     43\u001B[0m \u001B[38;5;66;03m#   net.reset_state()\u001B[39;00m\n\u001B[1;32m     44\u001B[0m \u001B[38;5;66;03m#   t2 = time.time()\u001B[39;00m\n\u001B[0;32m   (...)\u001B[0m\n\u001B[1;32m     48\u001B[0m   \u001B[38;5;66;03m# mon['ts'] = indices * bm.get_dt()\u001B[39;00m\n\u001B[1;32m     49\u001B[0m   \u001B[38;5;66;03m# tool.visualize_results(mon, IA_freqs, IB_freqs)\u001B[39;00m\n",
      "File \u001B[0;32m/usr/local/lib/python3.10/site-packages/brainpy/_src/math/object_transform/jit.py:215\u001B[0m, in \u001B[0;36mJITTransform.__call__\u001B[0;34m(self, *args, **kwargs)\u001B[0m\n\u001B[1;32m    213\u001B[0m \u001B[38;5;66;03m# call the transformed function\u001B[39;00m\n\u001B[1;32m    214\u001B[0m rng_keys \u001B[38;5;241m=\u001B[39m \u001B[38;5;28mself\u001B[39m\u001B[38;5;241m.\u001B[39m_dyn_vars\u001B[38;5;241m.\u001B[39mcall_on_subset(_is_rng, _rng_split_key)\n\u001B[0;32m--> 215\u001B[0m changes, out \u001B[38;5;241m=\u001B[39m \u001B[38;5;28;43mself\u001B[39;49m\u001B[38;5;241;43m.\u001B[39;49m\u001B[43m_transform\u001B[49m\u001B[43m(\u001B[49m\u001B[38;5;28;43mself\u001B[39;49m\u001B[38;5;241;43m.\u001B[39;49m\u001B[43m_dyn_vars\u001B[49m\u001B[38;5;241;43m.\u001B[39;49m\u001B[43mdict_data\u001B[49m\u001B[43m(\u001B[49m\u001B[43m)\u001B[49m\u001B[43m,\u001B[49m\u001B[43m \u001B[49m\u001B[38;5;241;43m*\u001B[39;49m\u001B[43margs\u001B[49m\u001B[43m,\u001B[49m\u001B[43m \u001B[49m\u001B[38;5;241;43m*\u001B[39;49m\u001B[38;5;241;43m*\u001B[39;49m\u001B[43mkwargs\u001B[49m\u001B[43m)\u001B[49m\n\u001B[1;32m    216\u001B[0m \u001B[38;5;28;01mfor\u001B[39;00m key, v \u001B[38;5;129;01min\u001B[39;00m changes\u001B[38;5;241m.\u001B[39mitems():\n\u001B[1;32m    217\u001B[0m   \u001B[38;5;28mself\u001B[39m\u001B[38;5;241m.\u001B[39m_dyn_vars[key]\u001B[38;5;241m.\u001B[39m_value \u001B[38;5;241m=\u001B[39m v\n",
      "    \u001B[0;31m[... skipping hidden 10 frame]\u001B[0m\n",
      "File \u001B[0;32m/usr/local/lib/python3.10/site-packages/jax/_src/interpreters/pxla.py:1152\u001B[0m, in \u001B[0;36mExecuteReplicated.__call__\u001B[0;34m(self, *args)\u001B[0m\n\u001B[1;32m   1150\u001B[0m   \u001B[38;5;28mself\u001B[39m\u001B[38;5;241m.\u001B[39m_handle_token_bufs(result_token_bufs, sharded_runtime_token)\n\u001B[1;32m   1151\u001B[0m \u001B[38;5;28;01melse\u001B[39;00m:\n\u001B[0;32m-> 1152\u001B[0m   results \u001B[38;5;241m=\u001B[39m \u001B[38;5;28;43mself\u001B[39;49m\u001B[38;5;241;43m.\u001B[39;49m\u001B[43mxla_executable\u001B[49m\u001B[38;5;241;43m.\u001B[39;49m\u001B[43mexecute_sharded\u001B[49m\u001B[43m(\u001B[49m\u001B[43minput_bufs\u001B[49m\u001B[43m)\u001B[49m\n\u001B[1;32m   1153\u001B[0m \u001B[38;5;28;01mif\u001B[39;00m dispatch\u001B[38;5;241m.\u001B[39mneeds_check_special():\n\u001B[1;32m   1154\u001B[0m   out_arrays \u001B[38;5;241m=\u001B[39m results\u001B[38;5;241m.\u001B[39mdisassemble_into_single_device_arrays()\n",
      "\u001B[0;31mXlaRuntimeError\u001B[0m: RESOURCE_EXHAUSTED: Error allocating device buffer: Attempting to allocate 14.30G. That was not possible. There are 706.58M free.; (0x0x0_HBM0)"
     ],
     "ename": "XlaRuntimeError",
     "evalue": "RESOURCE_EXHAUSTED: Error allocating device buffer: Attempting to allocate 14.30G. That was not possible. There are 706.58M free.; (0x0x0_HBM0)",
     "output_type": "error"
    }
   ]
  }
 ]
}
